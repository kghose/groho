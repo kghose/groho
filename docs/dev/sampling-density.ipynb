{
 "cells": [
  {
   "cell_type": "markdown",
   "metadata": {},
   "source": [
    "# How dense a sampling would we need?\n",
    "\n",
    "This is to work out how dense a sampling would we need if we did not use any interpolation tricks. The Earth-Moon system is not particularly challenging in this regard, so we choose the Mars/Phobos system - Phobos orbits pretty close to mars and very fast.\n",
    "\n",
    "We set up a computationally simple epicyclic system and take samples spaced at particular distances and check visually how it looks when we "
   ]
  },
  {
   "cell_type": "code",
   "execution_count": 33,
   "metadata": {},
   "outputs": [],
   "source": [
    "import numpy as np\n",
    "import matplotlib.pyplot as plt\n",
    "%matplotlib inline"
   ]
  },
  {
   "cell_type": "code",
   "execution_count": 34,
   "metadata": {},
   "outputs": [],
   "source": [
    "# Some constants in km\n",
    "Earth_orbit_r = 149597870\n",
    "Earth_r = 6371\n",
    "Moon_orbit_r = 385000\n",
    "Moon_r = 1737\n",
    "\n",
    "Mars_orbit_r = 227939200\n",
    "Mars_r = 3389.5\n",
    "Phobos_orbit_r = 9376\n",
    "Phobos_r = 11.2"
   ]
  },
  {
   "cell_type": "code",
   "execution_count": 35,
   "metadata": {},
   "outputs": [],
   "source": [
    "def run_sim(N = 100000):\n",
    "    d_km = 1000\n",
    "    domega_mars = d_km / Mars_orbit_r\n",
    "    domega_phobos = domega_mars * (686.971 / 0.318)\n",
    "    \n",
    "    mars_x = np.empty(N, dtype=float)\n",
    "    mars_y = np.empty(N, dtype=float)\n",
    "    phobos_x = np.empty(N, dtype=float)\n",
    "    phobos_y = np.empty(N, dtype=float)\n",
    "    for n in range(N):\n",
    "        mars_x[n] = np.sin(2*np.pi*domega_mars*n)\n",
    "        mars_y[n] = np.cos(2*np.pi*domega_mars*n)\n",
    "        phobos_x[n] = np.sin(2*np.pi*domega_phobos*n)\n",
    "        phobos_y[n] = np.cos(2*np.pi*domega_phobos*n)\n",
    "\n",
    "    mars_x *= Mars_orbit_r\n",
    "    mars_y *= Mars_orbit_r\n",
    "    phobos_x *= Phobos_orbit_r\n",
    "    phobos_y *= Phobos_orbit_r\n",
    "\n",
    "    phobos_x += mars_x\n",
    "    phobos_y += mars_y\n",
    "    \n",
    "    return mars_x, mars_y, phobos_x, phobos_y    "
   ]
  },
  {
   "cell_type": "code",
   "execution_count": 40,
   "metadata": {},
   "outputs": [],
   "source": [
    "from matplotlib.patches import Circle\n",
    "def plot(mars_x, mars_y, phobos_x, phobos_y):\n",
    "    plt.plot(mars_x, mars_y, 'o-', ms=1)\n",
    "    plt.plot(phobos_x, phobos_y, 'o-', ms=1)\n",
    "    plt.axis('scaled')\n",
    "    \n",
    "    n = 20\n",
    "    \n",
    "    circle = Circle((mars_x[n], mars_y[n]), Mars_r, ec=\"none\")\n",
    "    plt.gca().add_artist(circle)\n",
    "\n",
    "    circle = Circle((phobos_x[n], phobos_y[n]), Phobos_r, ec=\"none\")\n",
    "    plt.gca().add_artist(circle)\n"
   ]
  },
  {
   "cell_type": "code",
   "execution_count": 41,
   "metadata": {},
   "outputs": [
    {
     "data": {
      "text/plain": [
       "[0, 187520, 227934512.0, 227953264.0]"
      ]
     },
     "execution_count": 41,
     "metadata": {},
     "output_type": "execute_result"
    },
    {
     "data": {
      "image/png": "[encoded data removed]",
      "text/plain": [
       "<Figure size 1296x1152 with 1 Axes>"
      ]
     },
     "metadata": {},
     "output_type": "display_data"
    }
   ],
   "source": [
    "fig=plt.figure(figsize=(18, 16))\n",
    "plot(*run_sim())\n",
    "plt.axis('scaled')\n",
    "plt.axis([0, 20*Phobos_orbit_r, Mars_orbit_r - .5* Phobos_orbit_r, Mars_orbit_r + 1.5 * Phobos_orbit_r])\n"
   ]
  },
  {
   "cell_type": "markdown",
   "metadata": {},
   "source": [
    "Orbital speed of Pluto = 4.67 km/s. In 1 year pluto covers 147373992 km -> 147373 points per year\n",
    "\n",
    "We have 9 planets and 181 moons = 190 orrery objects.\n",
    "\n",
    "Per year, roughly 190 * 147373 points = 28,001,058. At 3 * 4 = 12 bytes per position we have 336,012,701 = 336 MB per year.\n",
    "\n"
   ]
  }
 ],
 "metadata": {
  "kernelspec": {
   "display_name": "Python 3",
   "language": "python",
   "name": "python3"
  },
  "language_info": {
   "codemirror_mode": {
    "name": "ipython",
    "version": 3
   },
   "file_extension": ".py",
   "mimetype": "text/x-python",
   "name": "python",
   "nbconvert_exporter": "python",
   "pygments_lexer": "ipython3",
   "version": "3.6.2"
  }
 },
 "nbformat": 4,
 "nbformat_minor": 2
}
